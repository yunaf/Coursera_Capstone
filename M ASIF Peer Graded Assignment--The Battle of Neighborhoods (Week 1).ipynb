{
 "cells": [
  {
   "cell_type": "markdown",
   "metadata": {},
   "source": [
    "# M-ASIF: Capstone Project - The Battle of Neighborhoods (Week 1)"
   ]
  },
  {
   "cell_type": "markdown",
   "metadata": {},
   "source": [
    "## The Problem Description & Background"
   ]
  },
  {
   "cell_type": "markdown",
   "metadata": {},
   "source": [
    "### The Background of the Problem"
   ]
  },
  {
   "cell_type": "markdown",
   "metadata": {},
   "source": [
    "As per Bloomberg News, the London Housing Market is in an inertia. It is now dealing with some of distinct headwinds, which include the possibility of increased taxes and an intimation from the Bank of England that U.K. domestic values may fall as plenty as 30 percent within the occasion of a disorderly separation from the European Union. More specifically, 4 disregarded cracks recommend that the London marketplace can be in worse form than many realize: hidden charge falls, record-low sales, homebuilder exodus, and tax hikes addressing abroad customers of houses in England and Wales"
   ]
  },
  {
   "cell_type": "markdown",
   "metadata": {},
   "source": [
    "### The Problem Description"
   ]
  },
  {
   "cell_type": "markdown",
   "metadata": {},
   "source": [
    "Here, it is imperative to adopt machine learning tools in order to help customers in London to make wise and effective decisions. Consequently, the business problem we are working on is: how could we provide support to customers to purchase a suitable real estate in London in this ambigous economic and financial scenario?\n",
    "\n",
    "To solve this business problem, we are going to cluster London neighborhoods in order to recommend venues and the current average price of real estate where customers can afford a real estate investment. We will sort out profitable venues according to amenities and essential facilities covering such venues i.e. elementary schools, high schools, hospitals & grocery stores."
   ]
  },
  {
   "cell_type": "markdown",
   "metadata": {},
   "source": [
    "### The Data Description"
   ]
  },
  {
   "cell_type": "markdown",
   "metadata": {},
   "source": [
    "The Data Source:\n",
    "\n",
    "The data on London real estate were extracted from the HM Land Registry from the link (http://landregistry.data.gov.uk/). The following fields form the address data included with price paid data: Postcode; PAON (Primary Addressable Object Name). Normally the house number or name; SAON (Secondary Addressable Object Name). If there is a sub-building, for example, the building is divided into flats, there will be a SAON; Street; Locality; Town/City; District; County.\n",
    "\n",
    "This data will help us to play around with our coding because our al lcoding will depend upon it. To explore recommended locations across different venues according to the presence of amenities and essential facilities, we can access data through FourSquare API interface and arrange them as a dataframe for visualization. By combining data on London real estate and the relative price paid data from the HM Land Registry and data on amenities and essential facilities surrounding such properties from FourSquare API interface, we will be able to recommend profitable real estate investments."
   ]
  },
  {
   "cell_type": "markdown",
   "metadata": {},
   "source": [
    "### How the Data will be Used to Solve the Problem?"
   ]
  },
  {
   "cell_type": "markdown",
   "metadata": {},
   "source": [
    "Here we need the concept of data methodology. The Methodology section will describe the main components of our analysis and predication system. The Methodology section comprises five stages which are:\n",
    "\n",
    "1. Collect Inspection Data\n",
    "2. Explore and Understand Data\n",
    "3. Data preparation and preprocessing \n",
    "4. Modeling\n",
    "5. Data Visualization\n",
    "\n",
    "he Foursquare API is used to access the venues in the neighborhoods. Since, it returns less venues in the neighborhoods, we would be analysing areas for which countable number of venues are obtained. Then they are clustered based on their venues using Data Science Techniques. Here the k-means clustering algorithm is used to achieve the task. The optimal number of clusters can be obtained using silhouette score. Folium visualization library can be used to visualize the clusters."
   ]
  },
  {
   "cell_type": "code",
   "execution_count": null,
   "metadata": {},
   "outputs": [],
   "source": []
  }
 ],
 "metadata": {
  "kernelspec": {
   "display_name": "Python 3",
   "language": "python",
   "name": "python3"
  },
  "language_info": {
   "codemirror_mode": {
    "name": "ipython",
    "version": 3
   },
   "file_extension": ".py",
   "mimetype": "text/x-python",
   "name": "python",
   "nbconvert_exporter": "python",
   "pygments_lexer": "ipython3",
   "version": "3.7.6"
  }
 },
 "nbformat": 4,
 "nbformat_minor": 4
}
